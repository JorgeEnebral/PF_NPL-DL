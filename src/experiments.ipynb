{
 "cells": [
  {
   "cell_type": "code",
   "execution_count": 2,
   "metadata": {},
   "outputs": [
    {
     "name": "stderr",
     "output_type": "stream",
     "text": [
      "/tmp/ipykernel_87576/3333839575.py:8: DeprecationWarning: Call to deprecated `glove2word2vec` (KeyedVectors.load_word2vec_format(.., binary=False, no_header=True) loads GLoVE text vectors.).\n",
      "  glove2word2vec(glove_input_file, word2vec_output_file)\n"
     ]
    },
    {
     "name": "stdout",
     "output_type": "stream",
     "text": [
      "[-0.20258   0.20543   0.17236   0.74813  -0.67589   0.15501   1.2159\n",
      "  0.076141 -0.54138   0.13545  -0.71692   0.3132   -5.1367   -0.51263\n",
      " -1.1023    0.2162   -0.17089  -0.11303  -0.60699   0.62725   0.58585\n",
      "  0.37587  -0.22522   0.98157   0.32612  -0.064337 -0.082492  0.34397\n",
      "  1.0403   -1.0402   -0.62527  -0.42018  -0.43558   0.58537   0.11988\n",
      " -0.24759   0.44675  -0.097309 -0.13688   0.50034  -1.6759   -0.84282\n",
      "  0.18427   0.11367  -0.57527   0.12956   0.13157  -0.27141   0.17583\n",
      " -0.30676 ]\n"
     ]
    }
   ],
   "source": [
    "from gensim.scripts.glove2word2vec import glove2word2vec\n",
    "from gensim.models.keyedvectors import KeyedVectors\n",
    "\n",
    "glove_input_file = '../embeddings/glove.twitter.27B.50d.txt'\n",
    "word2vec_output_file = '../embeddings/glove.twitter.27B.50d.word2vec.txt'\n",
    "\n",
    "# Convertir el archivo GloVe a formato word2vec\n",
    "glove2word2vec(glove_input_file, word2vec_output_file)\n",
    "\n",
    "# Cargar el modelo convertido\n",
    "model = KeyedVectors.load_word2vec_format(word2vec_output_file, binary=False)\n",
    "\n",
    "# Probar con una palabra\n",
    "print(model['love'])\n"
   ]
  },
  {
   "cell_type": "code",
   "execution_count": 5,
   "metadata": {},
   "outputs": [
    {
     "name": "stdout",
     "output_type": "stream",
     "text": [
      "hl\n"
     ]
    }
   ],
   "source": [
    "if \"love\" in model.key_to_index:\n",
    "    print(\"hl\")"
   ]
  }
 ],
 "metadata": {
  "kernelspec": {
   "display_name": "Python 3",
   "language": "python",
   "name": "python3"
  },
  "language_info": {
   "codemirror_mode": {
    "name": "ipython",
    "version": 3
   },
   "file_extension": ".py",
   "mimetype": "text/x-python",
   "name": "python",
   "nbconvert_exporter": "python",
   "pygments_lexer": "ipython3",
   "version": "3.10.12"
  }
 },
 "nbformat": 4,
 "nbformat_minor": 2
}
